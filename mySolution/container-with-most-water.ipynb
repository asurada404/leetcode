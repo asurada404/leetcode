{
 "cells": [
  {
   "cell_type": "code",
   "execution_count": 18,
   "metadata": {},
   "outputs": [],
   "source": [
    "class Solution(object):\n",
    "    def maxArea(self, height):\n",
    "        \"\"\"\n",
    "        :type height: List[int]\n",
    "        :rtype: int\n",
    "        \"\"\"\n",
    "        l = len(height) - 1\n",
    "        maxv = 0\n",
    "        for i in range(l):\n",
    "            for j in range(i+1,l+1):\n",
    "                v = (j - i)*min(height[i], height[j])\n",
    "                maxv = max(maxv, v)\n",
    "        return maxv\n",
    "                "
   ]
  },
  {
   "cell_type": "code",
   "execution_count": 19,
   "metadata": {},
   "outputs": [
    {
     "data": {
      "text/plain": [
       "[1, 8, 6, 2, 5, 4, 8, 3, 7]"
      ]
     },
     "execution_count": 19,
     "metadata": {},
     "output_type": "execute_result"
    }
   ],
   "source": [
    "[1,8,6,2,5,4,8,3,7]"
   ]
  },
  {
   "cell_type": "code",
   "execution_count": 20,
   "metadata": {},
   "outputs": [
    {
     "data": {
      "text/plain": [
       "17"
      ]
     },
     "execution_count": 20,
     "metadata": {},
     "output_type": "execute_result"
    }
   ],
   "source": [
    "S = Solution()\n",
    "S.maxArea([2,3,4,5,18,17,6])"
   ]
  },
  {
   "cell_type": "code",
   "execution_count": 21,
   "metadata": {},
   "outputs": [],
   "source": [
    "for i in range(9,1):\n",
    "    print(i)"
   ]
  },
  {
   "cell_type": "code",
   "execution_count": null,
   "metadata": {},
   "outputs": [],
   "source": []
  },
  {
   "cell_type": "code",
   "execution_count": 89,
   "metadata": {},
   "outputs": [],
   "source": [
    "class Solution1(object):\n",
    "    def maxArea1(self, height):\n",
    "        \"\"\"\n",
    "        :type height: List[int]\n",
    "        :rtype: int\n",
    "        \"\"\"\n",
    "        l = len(height) \n",
    "        index_right = 0\n",
    "        index_left = l - 1\n",
    "        maxv = (l-1) *min(height[index_right], height[index_left])\n",
    "        \n",
    "        for i in range(l):\n",
    "\n",
    "            if height[i] > height[index_right]:\n",
    "                print(\"i\",i)\n",
    "                \n",
    "#                 print(\"index_left\", index_left)\n",
    "                v = (index_left - i) * min(height[i], height[index_left])\n",
    "                print(\"v\",v)\n",
    "                if v > maxv:\n",
    "#                     print(\"i\",i)\n",
    "                    maxv = v\n",
    "                    index_right = i\n",
    "            print(\"index_right\", index_right)\n",
    "            for j in range(index_left,index_right-1,-1):\n",
    "                print(\"index_left\", index_left, height[index_left])\n",
    "#                 print(\"j\",j, height[j])\n",
    "#                 print(\"i\", i, height[i])\n",
    "                if height[j] >= height[index_left]:\n",
    "                    v = (j - index_right)*min(height[j], height[index_right])\n",
    "                    if  v > maxv :\n",
    "                        print(\"j\",j)\n",
    "                        maxv =v\n",
    "                        index_left = j\n",
    "        return maxv\n",
    "                "
   ]
  },
  {
   "cell_type": "code",
   "execution_count": 90,
   "metadata": {},
   "outputs": [
    {
     "name": "stdout",
     "output_type": "stream",
     "text": [
      "index_right 0\n",
      "index_left 6 6\n",
      "index_left 6 6\n",
      "index_left 6 6\n",
      "index_left 6 6\n",
      "index_left 6 6\n",
      "index_left 6 6\n",
      "index_left 6 6\n",
      "i 1\n",
      "v 15\n",
      "index_right 1\n",
      "index_left 6 6\n",
      "index_left 6 6\n",
      "index_left 6 6\n",
      "index_left 6 6\n",
      "index_left 6 6\n",
      "index_left 6 6\n",
      "i 2\n",
      "v 16\n",
      "index_right 2\n",
      "index_left 6 6\n",
      "index_left 6 6\n",
      "index_left 6 6\n",
      "index_left 6 6\n",
      "index_left 6 6\n",
      "i 3\n",
      "v 15\n",
      "index_right 2\n",
      "index_left 6 6\n",
      "index_left 6 6\n",
      "index_left 6 6\n",
      "index_left 6 6\n",
      "index_left 6 6\n",
      "i 4\n",
      "v 12\n",
      "index_right 2\n",
      "index_left 6 6\n",
      "index_left 6 6\n",
      "index_left 6 6\n",
      "index_left 6 6\n",
      "index_left 6 6\n",
      "i 5\n",
      "v 6\n",
      "index_right 2\n",
      "index_left 6 6\n",
      "index_left 6 6\n",
      "index_left 6 6\n",
      "index_left 6 6\n",
      "index_left 6 6\n",
      "i 6\n",
      "v 0\n",
      "index_right 2\n",
      "index_left 6 6\n",
      "index_left 6 6\n",
      "index_left 6 6\n",
      "index_left 6 6\n",
      "index_left 6 6\n"
     ]
    },
    {
     "data": {
      "text/plain": [
       "16"
      ]
     },
     "execution_count": 90,
     "metadata": {},
     "output_type": "execute_result"
    }
   ],
   "source": [
    "S = Solution1()\n",
    "S.maxArea1([2,3,4,5,18,17,6])"
   ]
  },
  {
   "cell_type": "code",
   "execution_count": 29,
   "metadata": {},
   "outputs": [
    {
     "name": "stdout",
     "output_type": "stream",
     "text": [
      "9\n",
      "8\n",
      "7\n",
      "6\n",
      "5\n",
      "4\n",
      "3\n",
      "2\n"
     ]
    }
   ],
   "source": [
    "for i in range(9,1,-1):\n",
    "    print(i)"
   ]
  },
  {
   "cell_type": "code",
   "execution_count": null,
   "metadata": {},
   "outputs": [],
   "source": []
  }
 ],
 "metadata": {
  "kernelspec": {
   "display_name": "Python 3",
   "language": "python",
   "name": "python3"
  },
  "language_info": {
   "codemirror_mode": {
    "name": "ipython",
    "version": 3
   },
   "file_extension": ".py",
   "mimetype": "text/x-python",
   "name": "python",
   "nbconvert_exporter": "python",
   "pygments_lexer": "ipython3",
   "version": "3.6.5"
  }
 },
 "nbformat": 4,
 "nbformat_minor": 2
}
