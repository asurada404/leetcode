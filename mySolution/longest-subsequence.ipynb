{
 "cells": [
  {
   "cell_type": "markdown",
   "metadata": {},
   "source": [
    "## 递归"
   ]
  },
  {
   "cell_type": "code",
   "execution_count": 3,
   "metadata": {},
   "outputs": [],
   "source": [
    "def lsb(str1, str2):\n",
    "    if str1 == \"\" or str2 == \"\":\n",
    "        return 0\n",
    "    if str1[-1] == str2[-1]:\n",
    "        return lsb(str1[:-1],str2[:-1]) + 1\n",
    "    else:\n",
    "        return max(lsb(str1[:-1], str2), lsb(str1, str2[:-1]))"
   ]
  },
  {
   "cell_type": "code",
   "execution_count": 8,
   "metadata": {},
   "outputs": [
    {
     "data": {
      "text/plain": [
       "3"
      ]
     },
     "execution_count": 8,
     "metadata": {},
     "output_type": "execute_result"
    }
   ],
   "source": [
    "lsb(\"algorithm\",\"program\")"
   ]
  },
  {
   "cell_type": "markdown",
   "metadata": {},
   "source": [
    "## 动态规划 fib"
   ]
  },
  {
   "cell_type": "code",
   "execution_count": 11,
   "metadata": {},
   "outputs": [],
   "source": [
    "def fib(n):\n",
    "    f = 0\n",
    "    g = 1\n",
    "    for i in range(n - 1):\n",
    "        g, f = f + g, g\n",
    "    return g\n",
    "    "
   ]
  },
  {
   "cell_type": "code",
   "execution_count": 14,
   "metadata": {},
   "outputs": [
    {
     "data": {
      "text/plain": [
       "13"
      ]
     },
     "execution_count": 14,
     "metadata": {},
     "output_type": "execute_result"
    }
   ],
   "source": [
    "fib(7)"
   ]
  },
  {
   "cell_type": "code",
   "execution_count": 30,
   "metadata": {},
   "outputs": [],
   "source": [
    "def lsb_dp(str1, str2):\n",
    "    m = len(str1)\n",
    "    n = len(str2)\n",
    "    res = [[0]*(n+1)] *(m+1)\n",
    "    for i in range(1,m +1):\n",
    "        for j in range(1, n + 1):\n",
    "            if str1[i-1] == str2[j-1]:\n",
    "                res[i][j] = res[i-1][j-1] +1\n",
    "            else:\n",
    "                res[i][j] = max(res[i-1][j],res[i][j-1])\n",
    "    return res[m][n]\n",
    "    "
   ]
  },
  {
   "cell_type": "code",
   "execution_count": 31,
   "metadata": {},
   "outputs": [
    {
     "data": {
      "text/plain": [
       "3"
      ]
     },
     "execution_count": 31,
     "metadata": {},
     "output_type": "execute_result"
    }
   ],
   "source": [
    "lsb_dp(\"algorithm\",\"program\")"
   ]
  },
  {
   "cell_type": "markdown",
   "metadata": {},
   "source": [
    "- 动态规划表\n",
    "- 从上至下的思想"
   ]
  },
  {
   "cell_type": "code",
   "execution_count": 44,
   "metadata": {},
   "outputs": [],
   "source": [
    "## 起泡排序\n",
    "def swap(A,i,j):\n",
    "    temp = A[j]\n",
    "    A[j] = A[i]\n",
    "    A[i] = temp\n",
    "    return A\n",
    "\n",
    "def bubble_sort(A):\n",
    "    for i in range(1,len(A)):\n",
    "        print(A)\n",
    "        for j in range(1, len(A) - i + 1):\n",
    "            if A[j-1] > A[j]:\n",
    "                swap(A, j-1, j)\n",
    "    return A\n",
    "    "
   ]
  },
  {
   "cell_type": "code",
   "execution_count": 45,
   "metadata": {},
   "outputs": [
    {
     "name": "stdout",
     "output_type": "stream",
     "text": [
      "[11, 23, 19, 7, 17, 5, 3, 13, 2, 29]\n",
      "[11, 19, 7, 17, 5, 3, 13, 2, 23, 29]\n",
      "[11, 7, 17, 5, 3, 13, 2, 19, 23, 29]\n",
      "[7, 11, 5, 3, 13, 2, 17, 19, 23, 29]\n",
      "[7, 5, 3, 11, 2, 13, 17, 19, 23, 29]\n",
      "[5, 3, 7, 2, 11, 13, 17, 19, 23, 29]\n",
      "[3, 5, 2, 7, 11, 13, 17, 19, 23, 29]\n",
      "[3, 2, 5, 7, 11, 13, 17, 19, 23, 29]\n",
      "[2, 3, 5, 7, 11, 13, 17, 19, 23, 29]\n"
     ]
    },
    {
     "data": {
      "text/plain": [
       "[2, 3, 5, 7, 11, 13, 17, 19, 23, 29]"
      ]
     },
     "execution_count": 45,
     "metadata": {},
     "output_type": "execute_result"
    }
   ],
   "source": [
    "bubble_sort([11, 23, 19, 7, 17, 5, 3, 13, 2, 29])"
   ]
  },
  {
   "cell_type": "code",
   "execution_count": null,
   "metadata": {},
   "outputs": [],
   "source": []
  }
 ],
 "metadata": {
  "kernelspec": {
   "display_name": "Python 3",
   "language": "python",
   "name": "python3"
  },
  "language_info": {
   "codemirror_mode": {
    "name": "ipython",
    "version": 3
   },
   "file_extension": ".py",
   "mimetype": "text/x-python",
   "name": "python",
   "nbconvert_exporter": "python",
   "pygments_lexer": "ipython3",
   "version": "3.6.5"
  }
 },
 "nbformat": 4,
 "nbformat_minor": 2
}
