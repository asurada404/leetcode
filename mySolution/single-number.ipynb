{
 "cells": [
  {
   "cell_type": "markdown",
   "metadata": {},
   "source": [
    "## 思路\n",
    " - 子问题：以i-th结尾的最长的回文数是什么（多长）\n",
    " - 判断是否是回文数\n",
    " - 获得以某一位置i结尾的最长的回文数"
   ]
  },
  {
   "cell_type": "code",
   "execution_count": null,
   "metadata": {},
   "outputs": [],
   "source": [
    "class Solution:\n",
    "    def longestPalindrome(self, s: str) -> str:\n",
    "        \n",
    "        if len(s)==0 : return \"\"\n",
    "        def judge_palindrone(s):\n",
    "            return s == s[::-1]\n",
    "        \n",
    "        def get_long_palindrone(s):\n",
    "            if len(s) == 1:·\n",
    "                return 1\n",
    "            last_character = s[-1]\n",
    "            len_s = len(s)\n",
    "            final_index = len_s - 1\n",
    "            for i in range(1,len_s+1):\n",
    "                if (s[len_s - i] == last_character):\n",
    "                    if judge_palindrone(s[len_s-i:]):\n",
    "                        final_index = len_s - i\n",
    "            return  len_s - final_index \n",
    "        res = [1]*len(s)\n",
    "        for i in range(len(s)):\n",
    "            res[i] = get_long_palindrone(s[:i+1])\n",
    "        \n",
    "        max_ = max(res)\n",
    "        \n",
    "        index = res.index(max_)\n",
    "        return s[  index+1 - max_ :index+1]\n",
    "    "
   ]
  },
  {
   "cell_type": "code",
   "execution_count": 3,
   "metadata": {},
   "outputs": [
    {
     "data": {
      "text/plain": [
       "'sss'"
      ]
     },
     "execution_count": 3,
     "metadata": {},
     "output_type": "execute_result"
    }
   ],
   "source": [
    "s  = Solution()\n",
    "s.longestPalindrome(\"sss\")"
   ]
  },
  {
   "cell_type": "code",
   "execution_count": null,
   "metadata": {},
   "outputs": [],
   "source": [
    "class Solution:\n",
    "    def longestPalindrome(self, s: str) -> str:\n",
    "        \n",
    "        if len(s)==0 : return \"\"\n",
    "        def judge_palindrone(s):\n",
    "            return s == s[::-1]\n",
    "        \n",
    "        def get_long_palindrone(s):\n",
    "            if len(s) == 1:·\n",
    "                return 1\n",
    "            last_character = s[-1]\n",
    "            len_s = len(s)\n",
    "            final_index = len_s - 1\n",
    "            for i in range(1,len_s+1):\n",
    "                if (s[len_s - i] == last_character):\n",
    "                    if judge_palindrone(s[len_s-i:]):\n",
    "                        final_index = len_s - i\n",
    "            return  len_s - final_index \n",
    "        res = [1]*len(s)\n",
    "        for i in range(len(s)):\n",
    "            res[i] = get_long_palindrone(s[:i+1])\n",
    "        \n",
    "        max_ = max(res)\n",
    "        \n",
    "        index = res.index(max_)\n",
    "        return s[  index+1 - max_ :index+1]\n",
    "    "
   ]
  }
 ],
 "metadata": {
  "kernelspec": {
   "display_name": "Python 3",
   "language": "python",
   "name": "python3"
  },
  "language_info": {
   "codemirror_mode": {
    "name": "ipython",
    "version": 3
   },
   "file_extension": ".py",
   "mimetype": "text/x-python",
   "name": "python",
   "nbconvert_exporter": "python",
   "pygments_lexer": "ipython3",
   "version": "3.6.5"
  }
 },
 "nbformat": 4,
 "nbformat_minor": 2
}
